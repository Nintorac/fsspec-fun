{
 "cells": [
  {
   "cell_type": "code",
   "execution_count": null,
   "id": "3678d713",
   "metadata": {
    "lines_to_next_cell": 0
   },
   "outputs": [],
   "source": [
    "%%capture\n",
    "%xmode Minimal\n",
    "import logging, warnings\n",
    "\n",
    "warnings.filterwarnings(\"ignore\")\n",
    "logging.basicConfig(level=logging.CRITICAL)\n",
    "!docker stop chirpy_donkey nervous_sutherland\n",
    "!docker rm chirpy_donkey nervous_sutherland"
   ]
  },
  {
   "cell_type": "markdown",
   "id": "e5a8b0dc",
   "metadata": {
    "cell_marker": "\"\"\"",
    "lines_to_next_cell": 0
   },
   "source": [
    "Here is a neat method I found to make accessing blob\n",
    "storage extremely painless in the Python data eco-system. It's especially nice since the tools\n",
    "it relies on are extremely widely supported. So if that sounds interesting read on.\n",
    "\n",
    "The code to for to produce this article can be [found here](https://github.com/Nintorac/fsspec-fun/blob/main/article.py), or if you prefer a `.ipynb` then [check here](https://github.com/Nintorac/fsspec-fun/blob/main/build/article.ipynb)\n",
    "\n",
    "<details>\n",
    "<summary>\n",
    "A quick note on article format (click to expand)\n",
    "</summary>\n",
    "---\n",
    "This article is a little experimental, I want to be able to produce content with executed Python\n",
    "it works OK but is a little convoluted. I think I will end up migrating my site platform to MyST or Sphinx in the future to make it easier.\n",
    "\n",
    "Check out [github.com/Nintorac/fsspec-fun](https://github.com/Nintorac/fsspec-fun) for the sources.\n",
    "\n",
    "You should know, when you see a block of Python, the content after it is the output of that bit of code.\n",
    "\n",
    "eg. printing to console"
   ]
  },
  {
   "cell_type": "code",
   "execution_count": null,
   "id": "eb41d14a",
   "metadata": {
    "lines_to_next_cell": 0
   },
   "outputs": [],
   "source": [
    "print(\"This code is being executed, and the next box is the output\\nit works exactly like it would in a jupyter notebook\")"
   ]
  },
  {
   "cell_type": "markdown",
   "id": "5850ad8d",
   "metadata": {
    "cell_marker": "\"\"\"",
    "lines_to_next_cell": 0
   },
   "source": [
    "or displaying a variable directly"
   ]
  },
  {
   "cell_type": "code",
   "execution_count": null,
   "id": "6195586c",
   "metadata": {
    "lines_to_next_cell": 0
   },
   "outputs": [],
   "source": [
    "123456"
   ]
  },
  {
   "cell_type": "markdown",
   "id": "2ca2910c",
   "metadata": {
    "cell_marker": "\"\"\"",
    "lines_to_next_cell": 0
   },
   "source": [
    "---\n",
    "</details>\n",
    "\n",
    "## Getting started\n",
    "\n",
    "First we are going to install a few dependencies."
   ]
  },
  {
   "cell_type": "code",
   "execution_count": null,
   "id": "caf97318",
   "metadata": {
    "lines_to_next_cell": 0
   },
   "outputs": [],
   "source": [
    "!pip install --disable-pip-version-check --root-user-action=ignore -q \\\n",
    "    fsspec pandas\n",
    "import fsspec, pandas as pd"
   ]
  },
  {
   "cell_type": "markdown",
   "id": "d938862a",
   "metadata": {
    "cell_marker": "\"\"\"",
    "lines_to_next_cell": 0
   },
   "source": [
    "fsspec which is the star of the article, and Pandas to demonstrate some of the neat interoperability\n",
    "(but this works with many other libraries eg DuckDB, Polars..[etc](https://filesystem-spec.readthedocs.io/en/latest/#who-uses-fsspec))\n",
    "\n",
    "fsspec is a neat little tool that aims to provide a unified interface to files wherever they live,\n",
    "be that locally, in a zip, on http or even FTP! Heres the full list of [built in implementations](https://filesystem-spec.readthedocs.io/en/latest/api.html#built-in-implementations)\n",
    "and a list of [other known implementations](https://filesystem-spec.readthedocs.io/en/latest/api.html#other-known-implementations)\n",
    "\n",
    "For example;"
   ]
  },
  {
   "cell_type": "code",
   "execution_count": null,
   "id": "84b30a0b",
   "metadata": {
    "lines_to_next_cell": 0
   },
   "outputs": [],
   "source": [
    "fs = fsspec.filesystem('file')\n",
    "with fs.open('example_file','w') as f:\n",
    "    f.write('hello')\n",
    "\n",
    "!cat example_file"
   ]
  },
  {
   "cell_type": "markdown",
   "id": "3c71bf08",
   "metadata": {
    "cell_marker": "\"\"\"",
    "lines_to_next_cell": 0
   },
   "source": [
    "Here we create a file named `example_file` in the current working directory, write some text into it and then escape to shell to\n",
    "print the file using cat.\n",
    "\n",
    "Here's another example;"
   ]
  },
  {
   "cell_type": "code",
   "execution_count": null,
   "id": "0fceea74",
   "metadata": {
    "lines_to_next_cell": 0
   },
   "outputs": [],
   "source": [
    "fs = fsspec.filesystem('memory')\n",
    "with fs.open('example_file','w') as f:\n",
    "    f.write('a,b,c\\n1,2,3')\n",
    "\n",
    "df = pd.read_csv('memory://example_file')\n",
    "df"
   ]
  },
  {
   "cell_type": "markdown",
   "id": "403b5a1c",
   "metadata": {
    "cell_marker": "\"\"\"",
    "lines_to_next_cell": 0
   },
   "source": [
    "This time we use the 'memory' filesystem, an ephemeral in memory filesystem provided by fsspec\n",
    "out of the box. We write a csv to it, and then use pandas to read the csv directly.\n",
    "\n",
    "So pandas supports fsspec out of the box!\n",
    "\n",
    "## Bucket storage\n",
    "\n",
    "Ok, lets get a bit more fancy;"
   ]
  },
  {
   "cell_type": "code",
   "execution_count": null,
   "id": "05b70f78",
   "metadata": {
    "lines_to_next_cell": 0
   },
   "outputs": [],
   "source": [
    "!docker run --name nervous_sutherland --rm -d \\\n",
    "  -p 9000:9000 \\\n",
    "  -p 9001:9001 \\\n",
    "  -e \"MINIO_ROOT_USER=minio\" \\\n",
    "  -e \"MINIO_ROOT_PASSWORD=123456789\" \\\n",
    "  quay.io/minio/minio server /data --console-address \":9001\"\n",
    "!sleep 2\n",
    "!docker exec nervous_sutherland bash -c \\\n",
    "    \"mc alias set myminio http://localhost:9000 minio 123456789 && \\\n",
    "    mc mb myminio/mybucket\"\n",
    "\n",
    "!pip install --disable-pip-version-check --root-user-action=ignore -q \\\n",
    "      s3fs"
   ]
  },
  {
   "cell_type": "markdown",
   "id": "9f377ad4",
   "metadata": {
    "cell_marker": "\"\"\"",
    "lines_to_next_cell": 0
   },
   "source": [
    "We started a Minio server as a quick and easy alternative to S3, if you are following along\n",
    "from home and already have access to S3 then you can use that just as easily!\n",
    "\n",
    "Then we create a bucket in the minio server called `mybucket`.\n",
    "\n",
    "Finally, we installed `s3fs`, this is an fsspec backend that allows you to access any s3 compatiable.\n",
    "So lets try the last example again, but writing to s3 now;"
   ]
  },
  {
   "cell_type": "code",
   "execution_count": null,
   "id": "5060ea0b",
   "metadata": {
    "lines_to_next_cell": 0
   },
   "outputs": [],
   "source": [
    "fs = fsspec.filesystem(\n",
    "    's3',               # this setting tells fsspec to use the s3fs package\n",
    "    key = 'minio',\n",
    "    secret = '123456789',\n",
    "    endpoint_url = 'http://localhost:9000'\n",
    ")\n",
    "with fs.open('mybucket/example_file','w') as f:\n",
    "    f.write('a,b,c\\n1,2,3')\n",
    "\n",
    "df = pd.read_csv('s3://mybucket/example_file')\n",
    "df"
   ]
  },
  {
   "cell_type": "markdown",
   "id": "69adc6e7",
   "metadata": {
    "cell_marker": "\"\"\"",
    "lines_to_next_cell": 0
   },
   "source": [
    "Wait, hang on..permission denied?\n",
    "\n",
    "Ah! when I use `s3://` protocol with pandas it is not supplying my custom configuration\n",
    "so its reaching out to the real s3 with my bogus credentials and so...Forbidden!\n",
    "\n",
    "The solve?"
   ]
  },
  {
   "cell_type": "code",
   "execution_count": null,
   "id": "461c8996",
   "metadata": {
    "lines_to_next_cell": 0
   },
   "outputs": [],
   "source": [
    "with fs.open('mybucket/example_file','r') as f:\n",
    "    df = pd.read_csv(f)\n",
    "df"
   ]
  },
  {
   "cell_type": "markdown",
   "id": "f8dc4ae3",
   "metadata": {
    "cell_marker": "\"\"\"",
    "lines_to_next_cell": 0
   },
   "source": [
    "Yuck! All those nice ergonomics are gone, a whole extra line of code..let's do better!\n",
    "\n",
    "## Custom Protocol Defintions\n",
    "\n",
    "After forgetting about this problem for some time I came across `UPath`, this is another library\n",
    "from the fsspec project that adds `pathlib.Path` capabilites to fsspec endponts. More on that later...\n",
    "but in the [README](https://github.com/fsspec/universal_pathlib/blob/3cc0871/README.md) for this library in an out of context example, we find a hint!\n",
    "\n",
    "Here is the relevant excerpt;\n",
    "```python3\n",
    "import fsspec.registry\n",
    "from fsspec.spec import AbstractFileSystem\n",
    "\n",
    "class MyProtoFileSystem(AbstractFileSystem):\n",
    "    protocol = (\"myproto\",)\n",
    "    ...  # your custom implementation\n",
    "\n",
    "fsspec.registry.register_implementation(\"myproto\", MyProtoFileSystem)\n",
    "```\n",
    "\n",
    "So let's try something;"
   ]
  },
  {
   "cell_type": "code",
   "execution_count": null,
   "id": "e9ea1866",
   "metadata": {
    "lines_to_next_cell": 0
   },
   "outputs": [],
   "source": [
    "from fsspec import register_implementation\n",
    "from s3fs import S3FileSystem\n",
    "\n",
    "class MyProtoFileSystem(S3FileSystem):\n",
    "    protocol = ('fsspecfun',) # Name of the custom protocol\n",
    "\n",
    "    def __init__(self, *args, **_):\n",
    "        super().__init__(\n",
    "            *args,\n",
    "            # Configuration we inject into the base protocol\n",
    "            key = 'minio',\n",
    "            secret = '123456789',\n",
    "            endpoint_url = 'http://localhost:9000'\n",
    "        )\n",
    "\n",
    "register_implementation(\"fsspecfun\", MyProtoFileSystem) # register the protocol with fsspec\n",
    "\n",
    "df = pd.read_csv('fsspecfun://mybucket/example_file')\n",
    "df"
   ]
  },
  {
   "cell_type": "markdown",
   "id": "b3dedb1b",
   "metadata": {
    "cell_marker": "\"\"\"",
    "lines_to_next_cell": 0
   },
   "source": [
    "Well..it seems to be working but...whats happening here?!\n",
    "\n",
    "First up we are creating a sub-class of `S3FileSystem`, this is the class that we are fetching when we ran\n",
    "`fsspec.filesystem('s3')`, convince yourself like this; `type(fsspec.filesystem('s3'))==S3FileSystem`.\n",
    "\n",
    "This is also the class that implements the fssspec protocol, so our subclass will also implement it!\n",
    "\n",
    "Then we override this protocol variable..this let's fsspec know when to use this backend implementation.\n",
    "eg for the `S3FileSytem` this value is `('s3',)`\n",
    "\n",
    "Next we override the init function, here we ignore any of the fsspec storage options and inject our own.\n",
    "\n",
    "Once we have the implementation in place, we register it with fsspec, passing in the protocol name again here\n",
    "-- not sure why it's configured twice, but they both have to match for things to work.\n",
    "\n",
    "Finally, we read the csv again, but this time we replace the `s3` protocol from the initial attempt with the new one: `fsspecfun`\n",
    "\n",
    "## Custom Protocol Use cases\n",
    "\n",
    "Neat, it works! Let's take the idea and glam it up a little;"
   ]
  },
  {
   "cell_type": "code",
   "execution_count": null,
   "id": "df8bdc4b",
   "metadata": {
    "lines_to_next_cell": 0
   },
   "outputs": [],
   "source": [
    "def register_custom_fs_protocol(protocol: str, base_protocol: str, storage_options: dict[str, str], *, clobber: bool = False):\n",
    "    \"\"\"Register a custom fsspec protocol that applies some storage configuration.\"\"\"\n",
    "    overwrite_protocol = protocol\n",
    "\n",
    "    class MyProtoFileSystem(type(fsspec.filesystem(base_protocol))):\n",
    "        protocol = (overwrite_protocol,)\n",
    "\n",
    "        def __init__(self, *args, **_):  # noqa: N804\n",
    "            super().__init__(*args, **storage_options)\n",
    "\n",
    "    fsspec.register_implementation(protocol, MyProtoFileSystem, clobber)"
   ]
  },
  {
   "cell_type": "markdown",
   "id": "17259133",
   "metadata": {
    "cell_marker": "\"\"\"",
    "lines_to_next_cell": 0
   },
   "source": [
    "In this new version we create the handler class on the fly, you can base it off any fsspec implementation\n",
    "([full list here](https://filesystem-spec.readthedocs.io/en/latest/api.html#other-known-implementations)) and you can \n",
    "give the protocol whatever name you like.\n",
    "\n",
    "So let's use it to register some custom protocols - to demonstrate this I'll deploy another minio server, and we will backup the example file from the original server to the new one."
   ]
  },
  {
   "cell_type": "code",
   "execution_count": null,
   "id": "7e66ef26",
   "metadata": {},
   "outputs": [],
   "source": [
    "!docker run --name chirpy_donkey --rm -d \\\n",
    "  -p 9002:9000 \\\n",
    "  -p 9003:9001 \\\n",
    "  -e \"MINIO_ROOT_USER=minio\" \\\n",
    "  -e \"MINIO_ROOT_PASSWORD=987654321\" \\\n",
    "  quay.io/minio/minio server /data --console-address \":9001\"\n",
    "!sleep 2\n",
    "!docker exec chirpy_donkey bash -c \\\n",
    "    \"mc alias set myminio http://localhost:9000 minio 987654321 && \\\n",
    "    mc mb myminio/mybucket\""
   ]
  },
  {
   "cell_type": "markdown",
   "id": "1ad92211",
   "metadata": {
    "cell_marker": "\"\"\"",
    "lines_to_next_cell": 0
   },
   "source": [
    "<a id=\"infra\"></a>\n",
    "Here is a quick diagram to try to illustrate the architecture of the infrastructure at this point.\n",
    "It is rendered a bit more nicely in the repo, [here](https://github.com/Nintorac/fsspec-fun/blob/main/build/article.md#infra)\n",
    "\n",
    "```mermaid\n",
    "graph LR\n",
    "subgraph \"Container (nervous_sutherland) #32;\"\n",
    "B[Minio Server 1]\n",
    "B1[\"Port 9000 - S3 API  #32;\"]\n",
    "B2[\"Port 9001 - Console #32;\"]\n",
    "B3[<img height=\"40px\" width=\"40px\" src='data:image/svg+xml;base64,PHN2ZyB4bWxucz0iaHR0cDovL3d3dy53My5vcmcvMjAwMC9zdmciIHZpZXdCb3g9IjAgMCAyMDAgMjAwIj4KICA8IS0tIEJhY2tncm91bmQgY2lyY2xlIC0tPgogIDxjaXJjbGUgY3g9IjEwMCIgY3k9IjEwMCIgcj0iODAiIGZpbGw9IiNDNzIwMzAiLz4KICAKICA8IS0tIEJ1Y2tldCBib2R5IC0gbW9yZSBjdXJ2ZWQgYW5kIGJ1Y2tldC1saWtlIC0tPgogIDxwYXRoIGQ9IgogICAgTTYwIDcwCiAgICBDNjAgNzAsIDEwMCA2MCwgMTQwIDcwCiAgICBMMTMwIDE0MAogICAgQzEzMCAxNDAsIDEwMCAxNTAsIDcwIDE0MAogICAgWgogICIgZmlsbD0id2hpdGUiIHN0cm9rZT0iIzMzMzMzMyIgc3Ryb2tlLXdpZHRoPSIyIi8+CiAgCiAgPCEtLSBUb3AgZWxsaXBzZSBmb3IgYnVja2V0IG9wZW5pbmcgLS0+CiAgPGVsbGlwc2UgY3g9IjEwMCIgY3k9IjcwIiByeD0iNDAiIHJ5PSIxMCIgZmlsbD0id2hpdGUiIHN0cm9rZT0iIzMzMzMzMyIgc3Ryb2tlLXdpZHRoPSIyIi8+CiAgCiAgPCEtLSBPYmplY3Qgc3RvcmFnZSBzeW1ib2xzIC0gY2VudGVyZWQgYW5kIHdpdGggcGVyc3BlY3RpdmUgLS0+CiAgPHJlY3QgeD0iMTA1IiB5PSI5MCIgd2lkdGg9IjEyIiBoZWlnaHQ9IjEyIiBmaWxsPSIjMzMzMzMzIiB0cmFuc2Zvcm09InNrZXdYKC0xMCkiLz4KICA8cmVjdCB4PSIxMjUiIHk9IjkwIiB3aWR0aD0iMTIiIGhlaWdodD0iMTIiIGZpbGw9IiMzMzMzMzMiIHRyYW5zZm9ybT0ic2tld1goLTEwKSIvPgogIDxyZWN0IHg9IjEwNSIgeT0iMTEwIiB3aWR0aD0iMTIiIGhlaWdodD0iMTIiIGZpbGw9IiMzMzMzMzMiIHRyYW5zZm9ybT0ic2tld1goLTEwKSIvPgogIDxyZWN0IHg9IjEyNSIgeT0iMTEwIiB3aWR0aD0iMTIiIGhlaWdodD0iMTIiIGZpbGw9IiMzMzMzMzMiIHRyYW5zZm9ybT0ic2tld1goLTEwKSIvPgogIAogIDwhLS0gTWluSU8gdGV4dCAtLT4KICA8dGV4dCB4PSIxMDAiIHk9IjE3MCIgdGV4dC1hbmNob3I9Im1pZGRsZSIgZm9udC1mYW1pbHk9IkFyaWFsIiBmb250LXNpemU9IjE0IiBmaWxsPSJ3aGl0ZSI+TWluSU88L3RleHQ+Cjwvc3ZnPg==' /> mybucket]\n",
    "B --> B2\n",
    "B --> B3\n",
    "B --> B1\n",
    "end\n",
    "subgraph \"Container (chirpy_donkey) #32;\"\n",
    "C[Minio Server 2]\n",
    "C1[\"Port 9002 - S3 API #32;\"]\n",
    "C2[\"Port 9003 - Console #32;\"]\n",
    "C3[<img height=\"40px\" width=\"40px\" src='data:image/svg+xml;base64,PHN2ZyB4bWxucz0iaHR0cDovL3d3dy53My5vcmcvMjAwMC9zdmciIHZpZXdCb3g9IjAgMCAyMDAgMjAwIj4KICA8IS0tIEJhY2tncm91bmQgY2lyY2xlIC0tPgogIDxjaXJjbGUgY3g9IjEwMCIgY3k9IjEwMCIgcj0iODAiIGZpbGw9IiNDNzIwMzAiLz4KICAKICA8IS0tIEJ1Y2tldCBib2R5IC0gbW9yZSBjdXJ2ZWQgYW5kIGJ1Y2tldC1saWtlIC0tPgogIDxwYXRoIGQ9IgogICAgTTYwIDcwCiAgICBDNjAgNzAsIDEwMCA2MCwgMTQwIDcwCiAgICBMMTMwIDE0MAogICAgQzEzMCAxNDAsIDEwMCAxNTAsIDcwIDE0MAogICAgWgogICIgZmlsbD0id2hpdGUiIHN0cm9rZT0iIzMzMzMzMyIgc3Ryb2tlLXdpZHRoPSIyIi8+CiAgCiAgPCEtLSBUb3AgZWxsaXBzZSBmb3IgYnVja2V0IG9wZW5pbmcgLS0+CiAgPGVsbGlwc2UgY3g9IjEwMCIgY3k9IjcwIiByeD0iNDAiIHJ5PSIxMCIgZmlsbD0id2hpdGUiIHN0cm9rZT0iIzMzMzMzMyIgc3Ryb2tlLXdpZHRoPSIyIi8+CiAgCiAgPCEtLSBPYmplY3Qgc3RvcmFnZSBzeW1ib2xzIC0gY2VudGVyZWQgYW5kIHdpdGggcGVyc3BlY3RpdmUgLS0+CiAgPHJlY3QgeD0iMTA1IiB5PSI5MCIgd2lkdGg9IjEyIiBoZWlnaHQ9IjEyIiBmaWxsPSIjMzMzMzMzIiB0cmFuc2Zvcm09InNrZXdYKC0xMCkiLz4KICA8cmVjdCB4PSIxMjUiIHk9IjkwIiB3aWR0aD0iMTIiIGhlaWdodD0iMTIiIGZpbGw9IiMzMzMzMzMiIHRyYW5zZm9ybT0ic2tld1goLTEwKSIvPgogIDxyZWN0IHg9IjEwNSIgeT0iMTEwIiB3aWR0aD0iMTIiIGhlaWdodD0iMTIiIGZpbGw9IiMzMzMzMzMiIHRyYW5zZm9ybT0ic2tld1goLTEwKSIvPgogIDxyZWN0IHg9IjEyNSIgeT0iMTEwIiB3aWR0aD0iMTIiIGhlaWdodD0iMTIiIGZpbGw9IiMzMzMzMzMiIHRyYW5zZm9ybT0ic2tld1goLTEwKSIvPgogIAogIDwhLS0gTWluSU8gdGV4dCAtLT4KICA8dGV4dCB4PSIxMDAiIHk9IjE3MCIgdGV4dC1hbmNob3I9Im1pZGRsZSIgZm9udC1mYW1pbHk9IkFyaWFsIiBmb250LXNpemU9IjE0IiBmaWxsPSJ3aGl0ZSI+TWluSU88L3RleHQ+Cjwvc3ZnPg==' /> mybucket]\n",
    "C --> C1\n",
    "C --> C2\n",
    "C --> C3\n",
    "end\n",
    "C1 <-->|target:// protocol| A\n",
    "B1 <-->|source:// protocol| A[Client Code]\n",
    "classDef server fill:#f9f,stroke:#333,stroke-width:4px;\n",
    "class B,C server;\n",
    "```\n",
    "\n",
    "\n",
    "So with both the servers deployed and ready, let's register the `source` and `target` protocol to use in the backup scenario."
   ]
  },
  {
   "cell_type": "code",
   "execution_count": null,
   "id": "eadf772f",
   "metadata": {
    "lines_to_next_cell": 0
   },
   "outputs": [],
   "source": [
    "# register `source` protocol that connects to the minio instance\n",
    "register_custom_fs_protocol(\n",
    "    'source',\n",
    "    's3',\n",
    "    {'key' : 'minio', 'secret' : '123456789', 'endpoint_url' : 'http://localhost:9000'}\n",
    ")\n",
    "# register `target` protocol that connects to the real s3\n",
    "register_custom_fs_protocol(\n",
    "    'target',\n",
    "    's3', \n",
    "    {'key' : 'minio', 'secret' : '987654321', 'endpoint_url' : 'http://localhost:9002'}\n",
    ")"
   ]
  },
  {
   "cell_type": "markdown",
   "id": "875ebb81",
   "metadata": {
    "cell_marker": "\"\"\"",
    "lines_to_next_cell": 0
   },
   "source": [
    "And finally we can run the backup.\n",
    "\n",
    "This may seem a bit weird that we open the file and then use a `with` block,\n",
    "you can read the docs [here](https://filesystem-spec.readthedocs.io/en/latest/features.html#openfile-instances) to better understand what's happening."
   ]
  },
  {
   "cell_type": "code",
   "execution_count": null,
   "id": "de2da07d",
   "metadata": {
    "lines_to_next_cell": 0
   },
   "outputs": [],
   "source": [
    "source = fsspec.open('source://mybucket/example_file')\n",
    "target = fsspec.open('target://mybucket/backup_file', 'wb')\n",
    "\n",
    "with (source as source_f, target as target_f):\n",
    "    target_f.write(source_f.read())\n",
    "\n",
    "df = pd.read_csv('target://mybucket/backup_file')\n",
    "df"
   ]
  },
  {
   "cell_type": "markdown",
   "id": "07ddac77",
   "metadata": {
    "cell_marker": "\"\"\"",
    "lines_to_next_cell": 0
   },
   "source": [
    "## Closing Thoughts\n",
    "\n",
    "So we learned how to use fsspsec to provide a unified access model to many types of filesystems (S3, GCS, FTP, HTTP, etc)\n",
    "that is useable by a diverse set of analytics libraries (DuckDB, Polars, Pandas, etc.). \n",
    "\n",
    "Then we learned how to extend fsspec to inject credentials and configuration into the clients for the filesystems, \n",
    "hopefully that can help reduce some boilerplate in your code and cleaner analytics pipelines!\n",
    "\n",
    "Overall I think the folks working on the fsspec project are doing a great job of implementing a unified storage layer for Python. Go have an\n",
    "explore of [github.com/fsspec](https://github.com/fsspec) to learn more about this project!\n",
    "\n",
    "And that's about all I have to show..hope you learned something useful!\n",
    "<detail>\n",
    "<summary>\n",
    "Cleanup and dependencies\n",
    "</summary>"
   ]
  },
  {
   "cell_type": "code",
   "execution_count": null,
   "id": "9d468832",
   "metadata": {
    "lines_to_next_cell": 0
   },
   "outputs": [],
   "source": [
    "!docker stop chirpy_donkey nervous_sutherland\n",
    "!pip list --format=freeze"
   ]
  },
  {
   "cell_type": "markdown",
   "id": "4a688986",
   "metadata": {
    "cell_marker": "\"\"\""
   },
   "source": [
    "</details>"
   ]
  }
 ],
 "metadata": {
  "jupytext": {
   "cell_metadata_filter": "-all",
   "main_language": "python",
   "notebook_metadata_filter": "-all"
  }
 },
 "nbformat": 4,
 "nbformat_minor": 5
}
